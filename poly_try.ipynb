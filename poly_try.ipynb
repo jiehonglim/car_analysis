{
 "cells": [
  {
   "cell_type": "code",
   "execution_count": null,
   "metadata": {},
   "outputs": [],
   "source": [
    "import pandas as pd\n"
   ]
  },
  {
   "cell_type": "code",
   "execution_count": null,
   "metadata": {},
   "outputs": [],
   "source": [
    "df_car_reg_by_make_mth = pd.read_csv('Monthly-Car_Regn_by_make.csv')\n",
    "df_car_reg_by_make_mth\n"
   ]
  },
  {
   "cell_type": "code",
   "execution_count": null,
   "metadata": {},
   "outputs": [],
   "source": [
    "df_car_reg_by_make_year = pd.read_csv('Yearly_New_Cars_by_make.csv')\n",
    "df = df_car_reg_by_make_year"
   ]
  },
  {
   "cell_type": "code",
   "execution_count": null,
   "metadata": {},
   "outputs": [],
   "source": [
    "df.pivot(index='year', columns='make', values='number').fillna(0)\n"
   ]
  },
  {
   "cell_type": "code",
   "execution_count": null,
   "metadata": {},
   "outputs": [],
   "source": [
    "df_car_reg_by_make_type_year = pd.read_csv('Yearly_New_Cars_by_make_type.csv')\n",
    "df_car_reg_by_make_type_year.groupby(['year','fuel']).mean()\n",
    "\n"
   ]
  },
  {
   "cell_type": "code",
   "execution_count": 14,
   "metadata": {},
   "outputs": [
    {
     "data": {
      "text/html": [
       "<div>\n",
       "<style scoped>\n",
       "    .dataframe tbody tr th:only-of-type {\n",
       "        vertical-align: middle;\n",
       "    }\n",
       "\n",
       "    .dataframe tbody tr th {\n",
       "        vertical-align: top;\n",
       "    }\n",
       "\n",
       "    .dataframe thead th {\n",
       "        text-align: right;\n",
       "    }\n",
       "</style>\n",
       "<table border=\"1\" class=\"dataframe\">\n",
       "  <thead>\n",
       "    <tr style=\"text-align: right;\">\n",
       "      <th></th>\n",
       "      <th>month</th>\n",
       "      <th>bidding_no</th>\n",
       "      <th>vehicle_class</th>\n",
       "      <th>quota</th>\n",
       "      <th>bids_success</th>\n",
       "      <th>bids_received</th>\n",
       "      <th>premium</th>\n",
       "    </tr>\n",
       "  </thead>\n",
       "  <tbody>\n",
       "    <tr>\n",
       "      <th>0</th>\n",
       "      <td>2010-01</td>\n",
       "      <td>1</td>\n",
       "      <td>Category A</td>\n",
       "      <td>1152</td>\n",
       "      <td>1145</td>\n",
       "      <td>1342</td>\n",
       "      <td>18502</td>\n",
       "    </tr>\n",
       "    <tr>\n",
       "      <th>1</th>\n",
       "      <td>2010-01</td>\n",
       "      <td>1</td>\n",
       "      <td>Category B</td>\n",
       "      <td>687</td>\n",
       "      <td>679</td>\n",
       "      <td>883</td>\n",
       "      <td>19190</td>\n",
       "    </tr>\n",
       "    <tr>\n",
       "      <th>2</th>\n",
       "      <td>2010-01</td>\n",
       "      <td>1</td>\n",
       "      <td>Category C</td>\n",
       "      <td>173</td>\n",
       "      <td>173</td>\n",
       "      <td>265</td>\n",
       "      <td>19001</td>\n",
       "    </tr>\n",
       "    <tr>\n",
       "      <th>3</th>\n",
       "      <td>2010-01</td>\n",
       "      <td>1</td>\n",
       "      <td>Category D</td>\n",
       "      <td>373</td>\n",
       "      <td>365</td>\n",
       "      <td>509</td>\n",
       "      <td>889</td>\n",
       "    </tr>\n",
       "    <tr>\n",
       "      <th>4</th>\n",
       "      <td>2010-01</td>\n",
       "      <td>1</td>\n",
       "      <td>Category E</td>\n",
       "      <td>586</td>\n",
       "      <td>567</td>\n",
       "      <td>1011</td>\n",
       "      <td>19889</td>\n",
       "    </tr>\n",
       "    <tr>\n",
       "      <th>...</th>\n",
       "      <td>...</td>\n",
       "      <td>...</td>\n",
       "      <td>...</td>\n",
       "      <td>...</td>\n",
       "      <td>...</td>\n",
       "      <td>...</td>\n",
       "      <td>...</td>\n",
       "    </tr>\n",
       "    <tr>\n",
       "      <th>1435</th>\n",
       "      <td>2022-03</td>\n",
       "      <td>2</td>\n",
       "      <td>Category A</td>\n",
       "      <td>543</td>\n",
       "      <td>542</td>\n",
       "      <td>849</td>\n",
       "      <td>71556</td>\n",
       "    </tr>\n",
       "    <tr>\n",
       "      <th>1436</th>\n",
       "      <td>2022-03</td>\n",
       "      <td>2</td>\n",
       "      <td>Category B</td>\n",
       "      <td>555</td>\n",
       "      <td>545</td>\n",
       "      <td>824</td>\n",
       "      <td>98889</td>\n",
       "    </tr>\n",
       "    <tr>\n",
       "      <th>1437</th>\n",
       "      <td>2022-03</td>\n",
       "      <td>2</td>\n",
       "      <td>Category C</td>\n",
       "      <td>91</td>\n",
       "      <td>91</td>\n",
       "      <td>166</td>\n",
       "      <td>51504</td>\n",
       "    </tr>\n",
       "    <tr>\n",
       "      <th>1438</th>\n",
       "      <td>2022-03</td>\n",
       "      <td>2</td>\n",
       "      <td>Category D</td>\n",
       "      <td>409</td>\n",
       "      <td>409</td>\n",
       "      <td>575</td>\n",
       "      <td>10501</td>\n",
       "    </tr>\n",
       "    <tr>\n",
       "      <th>1439</th>\n",
       "      <td>2022-03</td>\n",
       "      <td>2</td>\n",
       "      <td>Category E</td>\n",
       "      <td>180</td>\n",
       "      <td>177</td>\n",
       "      <td>344</td>\n",
       "      <td>99010</td>\n",
       "    </tr>\n",
       "  </tbody>\n",
       "</table>\n",
       "<p>1440 rows × 7 columns</p>\n",
       "</div>"
      ],
      "text/plain": [
       "        month  bidding_no vehicle_class  quota  bids_success  bids_received  \\\n",
       "0     2010-01           1    Category A   1152          1145           1342   \n",
       "1     2010-01           1    Category B    687           679            883   \n",
       "2     2010-01           1    Category C    173           173            265   \n",
       "3     2010-01           1    Category D    373           365            509   \n",
       "4     2010-01           1    Category E    586           567           1011   \n",
       "...       ...         ...           ...    ...           ...            ...   \n",
       "1435  2022-03           2    Category A    543           542            849   \n",
       "1436  2022-03           2    Category B    555           545            824   \n",
       "1437  2022-03           2    Category C     91            91            166   \n",
       "1438  2022-03           2    Category D    409           409            575   \n",
       "1439  2022-03           2    Category E    180           177            344   \n",
       "\n",
       "      premium  \n",
       "0       18502  \n",
       "1       19190  \n",
       "2       19001  \n",
       "3         889  \n",
       "4       19889  \n",
       "...       ...  \n",
       "1435    71556  \n",
       "1436    98889  \n",
       "1437    51504  \n",
       "1438    10501  \n",
       "1439    99010  \n",
       "\n",
       "[1440 rows x 7 columns]"
      ]
     },
     "execution_count": 14,
     "metadata": {},
     "output_type": "execute_result"
    }
   ],
   "source": [
    "df_coe_month = pd.read_csv('M11-coe_results.csv')\n",
    "df_coe_month\n",
    "\n",
    "\n",
    "\n"
   ]
  },
  {
   "cell_type": "code",
   "execution_count": null,
   "metadata": {},
   "outputs": [],
   "source": [
    "#df.groupby('make').sum().loc['Audi','number']\n",
    "\n",
    "df[df['make']=='Audi'].drop(['make'], axis=1).set_index('year')\n"
   ]
  },
  {
   "cell_type": "code",
   "execution_count": null,
   "metadata": {},
   "outputs": [],
   "source": [
    "car_list = df.groupby('make').sum().sort_values(by=['number'], ascending=False)\n",
    "car_list.reset_index().drop(['year', 'number'], axis=1)"
   ]
  },
  {
   "cell_type": "code",
   "execution_count": null,
   "metadata": {},
   "outputs": [],
   "source": [
    "car_list"
   ]
  },
  {
   "cell_type": "code",
   "execution_count": null,
   "metadata": {},
   "outputs": [],
   "source": []
  },
  {
   "cell_type": "code",
   "execution_count": null,
   "metadata": {},
   "outputs": [],
   "source": []
  },
  {
   "cell_type": "code",
   "execution_count": null,
   "metadata": {},
   "outputs": [],
   "source": []
  }
 ],
 "metadata": {
  "interpreter": {
   "hash": "f1852d12b3b2dbb2746997de9ab1ae211e1436742b5d337433ff1b315685441b"
  },
  "kernelspec": {
   "display_name": "Python 3.8.3 64-bit ('.env': venv)",
   "name": "python3"
  },
  "language_info": {
   "codemirror_mode": {
    "name": "ipython",
    "version": 3
   },
   "file_extension": ".py",
   "mimetype": "text/x-python",
   "name": "python",
   "nbconvert_exporter": "python",
   "pygments_lexer": "ipython3",
   "version": "3.8.3"
  },
  "orig_nbformat": 4
 },
 "nbformat": 4,
 "nbformat_minor": 2
}
